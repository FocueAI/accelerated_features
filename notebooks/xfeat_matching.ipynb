{
  "cells": [
    {
      "cell_type": "markdown",
      "metadata": {
        "id": "GzFYZYcT9oyb"
      },
      "source": [
        "# XFeat matching example (sparse and semi-dense)"
      ]
    },
    {
      "cell_type": "markdown",
      "metadata": {
        "id": "LgPDBaVw9uSU"
      },
      "source": [
        "## First, clone repository"
      ]
    },
    {
      "cell_type": "code",
      "execution_count": null,
      "metadata": {
        "colab": {
          "base_uri": "https://localhost:8080/"
        },
        "id": "D4G-r76a9tfR",
        "outputId": "940c2226-a4b4-4c30-a6f6-6fc93ba76eff"
      },
      "outputs": [],
      "source": [
        "!cd /content && git clone 'https://github.com/verlab/accelerated_features.git'\n",
        "%cd /content/accelerated_features"
      ]
    },
    {
      "cell_type": "markdown",
      "metadata": {
        "id": "97Mbt4a89z3Z"
      },
      "source": [
        "## Initialize XFeat"
      ]
    },
    {
      "cell_type": "code",
      "execution_count": null,
      "metadata": {
        "colab": {
          "base_uri": "https://localhost:8080/"
        },
        "id": "oIl4kgXY9zFB",
        "outputId": "6a4f7e7f-85dc-4904-ad57-5a92a0e28f0d"
      },
      "outputs": [],
      "source": [
        "import numpy as np\n",
        "import os,sys\n",
        "import torch\n",
        "import tqdm\n",
        "import cv2\n",
        "import matplotlib.pyplot as plt\n",
        "import pathlib\n",
        "# __dir__ = pathlib.Path(os.path.abspath(__file__))\n",
        "# sys.path.append(str(__dir__))\n",
        "# 获取当前工作目录\n",
        "current_directory = os.getcwd()\n",
        "__dir__ = pathlib.Path(current_directory)\n",
        "sys.path.append(str(__dir__.parent))\n",
        "\n",
        "\n",
        "from modules.xfeat import XFeat\n",
        "\n",
        "xfeat = XFeat()\n",
        "\n",
        "#Load some example images\n",
        "im1 = cv2.imread('./assets/ref.png')\n",
        "im2 = cv2.imread('./assets/tgt.png')"
      ]
    },
    {
      "cell_type": "markdown",
      "metadata": {
        "id": "KM1KQaj9-oOv"
      },
      "source": [
        "## Simple function that fits an homography in a set of matches and draw the homography transform"
      ]
    },
    {
      "cell_type": "code",
      "execution_count": 3,
      "metadata": {
        "id": "tfpevoC7-36X"
      },
      "outputs": [],
      "source": [
        "import cv2\n",
        "import numpy as np\n",
        "\n",
        "def warp_corners_and_draw_matches(ref_points, dst_points, img1, img2):\n",
        "    # Calculate the Homography matrix\n",
        "    H, mask = cv2.findHomography(ref_points, dst_points, cv2.USAC_MAGSAC, 3.5, maxIters=1_000, confidence=0.999)\n",
        "    mask = mask.flatten()\n",
        "\n",
        "    # Get corners of the first image (image1)\n",
        "    h, w = img1.shape[:2]\n",
        "    corners_img1 = np.array([[0, 0], [w-1, 0], [w-1, h-1], [0, h-1]], dtype=np.float32).reshape(-1, 1, 2)\n",
        "\n",
        "    # Warp corners to the second image (image2) space\n",
        "    warped_corners = cv2.perspectiveTransform(corners_img1, H)\n",
        "\n",
        "    # Draw the warped corners in image2\n",
        "    img2_with_corners = img2.copy()\n",
        "    for i in range(len(warped_corners)):\n",
        "        start_point = tuple(warped_corners[i-1][0].astype(int))\n",
        "        end_point = tuple(warped_corners[i][0].astype(int))\n",
        "        cv2.line(img2_with_corners, start_point, end_point, (0, 255, 0), 4)  # Using solid green for corners\n",
        "\n",
        "    # Prepare keypoints and matches for drawMatches function\n",
        "    keypoints1 = [cv2.KeyPoint(p[0], p[1], 5) for p in ref_points]\n",
        "    keypoints2 = [cv2.KeyPoint(p[0], p[1], 5) for p in dst_points]\n",
        "    matches = [cv2.DMatch(i,i,0) for i in range(len(mask)) if mask[i]]\n",
        "\n",
        "    # Draw inlier matches\n",
        "    img_matches = cv2.drawMatches(img1, keypoints1, img2_with_corners, keypoints2, matches, None,\n",
        "                                  matchColor=(0, 255, 0), flags=2)\n",
        "\n",
        "    return img_matches\n"
      ]
    },
    {
      "cell_type": "markdown",
      "metadata": {
        "id": "b83vE-Dt-cTC"
      },
      "source": [
        "## Matching example - sparse setting"
      ]
    },
    {
      "cell_type": "code",
      "execution_count": null,
      "metadata": {
        "colab": {
          "base_uri": "https://localhost:8080/",
          "height": 431
        },
        "id": "8qm_cdIq9-jy",
        "outputId": "ebd99a35-807d-4684-f43b-4f1b0a022c66"
      },
      "outputs": [],
      "source": [
        "#Use out-of-the-box function for extraction + MNN matching\n",
        "mkpts_0, mkpts_1 = xfeat.match_xfeat(im1, im2, top_k = 4096)\n",
        "\n",
        "canvas = warp_corners_and_draw_matches(mkpts_0, mkpts_1, im1, im2)\n",
        "plt.figure(figsize=(12,12))\n",
        "plt.imshow(canvas[..., ::-1]), plt.show()"
      ]
    },
    {
      "cell_type": "markdown",
      "metadata": {
        "id": "D8dOIGoyCGht"
      },
      "source": [
        "## Matching example - Semi-dense setting"
      ]
    },
    {
      "cell_type": "code",
      "execution_count": null,
      "metadata": {
        "colab": {
          "base_uri": "https://localhost:8080/",
          "height": 431
        },
        "id": "50c08Xg4CLIG",
        "outputId": "99fb4cfe-aafc-4e67-e3c0-d845758edd71"
      },
      "outputs": [],
      "source": [
        "#Use out-of-the-box function for extraction + coarse-to-fine matching\n",
        "mkpts_0, mkpts_1 = xfeat.match_xfeat_star(im1, im2, top_k = 8000)\n",
        "\n",
        "canvas = warp_corners_and_draw_matches(mkpts_0, mkpts_1, im1, im2)\n",
        "plt.figure(figsize=(12,12))\n",
        "plt.imshow(canvas[..., ::-1]), plt.show()"
      ]
    },
    {
      "cell_type": "code",
      "execution_count": null,
      "metadata": {},
      "outputs": [],
      "source": []
    },
    {
      "cell_type": "code",
      "execution_count": null,
      "metadata": {},
      "outputs": [],
      "source": []
    }
  ],
  "metadata": {
    "colab": {
      "collapsed_sections": [
        "KM1KQaj9-oOv"
      ],
      "provenance": [],
      "toc_visible": true
    },
    "kernelspec": {
      "display_name": "xfeat",
      "language": "python",
      "name": "python3"
    },
    "language_info": {
      "codemirror_mode": {
        "name": "ipython",
        "version": 3
      },
      "file_extension": ".py",
      "mimetype": "text/x-python",
      "name": "python",
      "nbconvert_exporter": "python",
      "pygments_lexer": "ipython3",
      "version": "3.9.19"
    }
  },
  "nbformat": 4,
  "nbformat_minor": 0
}
